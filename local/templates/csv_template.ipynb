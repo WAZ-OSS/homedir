{
 "cells": [
  {
   "cell_type": "code",
   "execution_count": null,
   "metadata": {},
   "outputs": [],
   "source": [
    "from __future__ import division\n",
    "%pylab inline\n",
    "%load_ext autoreload\n",
    "%autoreload 2\n",
    "import numpy as np\n",
    "import pandas as pd\n",
    "import seaborn as sns\n",
    "sns.set()\n",
    "pd.options.display.max_colwidth = 128\n",
    "pylab.rcParams['figure.figsize'] = 12, 5\n",
    "# d = pd.read_csv('...', parse_dates=['date'])\n",
    "# pd.to_datetime(d['timestamp'], unit='s')\n",
    "# with mpl.rc_context({\"figure.figsize\": (5, 5)}):\n",
    "# with mpl.rc_context({\"lines.linewidth\": 2, \"lines.color\": \"r\"}):\n",
    "# plt.legend(loc='center left', bbox_to_anchor=(1.1, 0.5))\n",
    "# ax.set_xlabel('x label')"
   ]
  },
  {
   "cell_type": "code",
   "execution_count": null,
   "metadata": {},
   "outputs": [],
   "source": [
    "df = pd.read_csv('{{CSV_PATH}}', parse_dates=[])"
   ]
  }
 ],
 "metadata": {
  "kernelspec": {
   "display_name": "Python 2",
   "language": "python",
   "name": "python2"
  },
  "language_info": {
   "codemirror_mode": {
    "name": "ipython",
    "version": 2
   },
   "file_extension": ".py",
   "mimetype": "text/x-python",
   "name": "python",
   "nbconvert_exporter": "python",
   "pygments_lexer": "ipython2",
   "version": "2.7.15"
  }
 },
 "nbformat": 4,
 "nbformat_minor": 2
}
